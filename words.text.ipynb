{
 "cells": [
  {
   "cell_type": "markdown",
   "id": "adbe4b4d-bcf0-4225-b68b-5fba9bff36ad",
   "metadata": {},
   "source": [
    "# 1. words.txt"
   ]
  },
  {
   "cell_type": "code",
   "execution_count": 5,
   "id": "5f7527e5-c330-473d-9527-a92fb887c095",
   "metadata": {},
   "outputs": [
    {
     "name": "stdout",
     "output_type": "stream",
     "text": [
      "Dataset saved to file.\n",
      "Total number of words in the file: 113783\n",
      "Longest word in the file: counterdemonstrations\n"
     ]
    },
    {
     "name": "stdin",
     "output_type": "stream",
     "text": [
      "Enter a letter to find words that start with it:  o\n"
     ]
    },
    {
     "name": "stdout",
     "output_type": "stream",
     "text": [
      "Number of words that start with 'o': 3978\n"
     ]
    },
    {
     "name": "stdin",
     "output_type": "stream",
     "text": [
      "Enter a substring to find words that contain it:  play\n"
     ]
    },
    {
     "name": "stdout",
     "output_type": "stream",
     "text": [
      "Words that contain 'play': ['byplay', 'byplays', 'chessplayer', 'chessplayers', 'display', 'displayed', 'displaying', 'displays', 'downplay', 'downplayed', 'downplaying', 'downplays', 'foreplay', 'foreplays', 'gunplay', 'gunplays', 'horseplay', 'horseplays', 'interplay', 'interplays', 'misplay', 'misplayed', 'misplaying', 'misplays', 'outplay', 'outplayed', 'outplaying', 'outplays', 'overplay', 'overplayed', 'overplaying', 'overplays', 'play', 'playa', 'playable', 'playact', 'playacted', 'playacting', 'playactings', 'playacts', 'playas', 'playback', 'playbacks', 'playbill', 'playbills', 'playbook', 'playbooks', 'playboy', 'playboys', 'playday', 'playdays', 'playdown', 'playdowns', 'played', 'player', 'players', 'playful', 'playfully', 'playfulness', 'playfulnesses', 'playgirl', 'playgirls', 'playgoer', 'playgoers', 'playground', 'playgrounds', 'playhouse', 'playhouses', 'playing', 'playland', 'playlands', 'playless', 'playlet', 'playlets', 'playlike', 'playmate', 'playmates', 'playoff', 'playoffs', 'playpen', 'playpens', 'playroom', 'playrooms', 'plays', 'playsuit', 'playsuits', 'plaything', 'playthings', 'playtime', 'playtimes', 'playwear', 'playwears', 'playwright', 'playwrights', 'replay', 'replayed', 'replaying', 'replays', 'splay', 'splayed', 'splaying', 'splays', 'teleplay', 'teleplays', 'unplayed', 'wordplay', 'wordplays']\n",
      "Palindromes in the file: ['aa', 'aba', 'aga', 'aha', 'ala', 'alula', 'ama', 'ana', 'anna', 'ava', 'awa', 'bib', 'bob', 'boob', 'bub', 'civic', 'dad', 'deed', 'deified', 'deked', 'deled', 'denned', 'dewed', 'did', 'dud', 'eke', 'eme', 'ere', 'eve', 'ewe', 'eye', 'gag', 'gig', 'hah', 'halalah', 'hallah', 'huh', 'kaiak', 'kayak', 'keek', 'kook', 'level', 'madam', 'marram', 'mem', 'mim', 'minim', 'mom', 'mum', 'noon', 'nun', 'oho', 'otto', 'pap', 'peep', 'pep', 'pip', 'poop', 'pop', 'pup', 'radar', 'redder', 'refer', 'reifier', 'repaper', 'reviver', 'rotator', 'rotor', 'sagas', 'sees', 'selles', 'sememes', 'semes', 'seres', 'sexes', 'shahs', 'sis', 'solos', 'sos', 'stets', 'tat', 'tenet', 'terret', 'tit', 'toot', 'tot', 'tut', 'vav', 'waw', 'wow', 'yay']\n",
      "Letter frequency in the file: {'a': 68574, 'b': 17794, 'c': 34281, 'd': 34548, 'e': 106752, 'f': 12706, 'g': 27832, 'h': 20186, 'i': 77392, 'j': 1780, 'k': 9366, 'l': 47003, 'm': 24739, 'n': 60505, 'o': 54538, 'p': 25789, 'q': 1632, 'r': 64963, 's': 86526, 't': 57029, 'u': 31151, 'v': 9186, 'w': 8533, 'x': 2700, 'y': 13473, 'z': 3750}\n"
     ]
    }
   ],
   "source": [
    "import requests\n",
    "import string\n",
    "\n",
    "def download_words():\n",
    "    url = 'https://raw.githubusercontent.com/AllenDowney/ThinkPython2/master/code/words.txt'\n",
    "\n",
    "    response = requests.get(url)\n",
    "\n",
    "    if response.status_code == 200:\n",
    "        with open('words.txt', 'wb') as f:\n",
    "            f.write(response.content)\n",
    "            print('Dataset saved to file.')\n",
    "    else:\n",
    "        print('Failed to download dataset.')\n",
    "\n",
    "\n",
    "def total_words():\n",
    "    with open('words.txt', 'r') as f:\n",
    "        words = f.readlines()\n",
    "        print(\"Total number of words in the file:\", len(words))\n",
    "\n",
    "\n",
    "def longest_word():\n",
    "    with open('words.txt', 'r') as f:\n",
    "        words = f.readlines()\n",
    "        longest = max(words, key=len).strip()\n",
    "        print(\"Longest word in the file:\", longest)\n",
    "\n",
    "\n",
    "def words_start_with(letter):\n",
    "    with open('words.txt', 'r') as f:\n",
    "        words = f.readlines()\n",
    "        count = sum(1 for word in words if word.startswith(letter))\n",
    "        print(f\"Number of words that start with '{letter}':\", count)\n",
    "\n",
    "\n",
    "def words_contain_substring(substring):\n",
    "    with open('words.txt', 'r') as f:\n",
    "        words = f.readlines()\n",
    "        contains = [word.strip() for word in words if substring in word]\n",
    "        print(f\"Words that contain '{substring}':\", contains)\n",
    "\n",
    "\n",
    "def palindromes():\n",
    "    with open('words.txt', 'r') as f:\n",
    "        words = f.readlines()\n",
    "        palindromes_list = [word.strip() for word in words if word.strip() == word.strip()[::-1]]\n",
    "        print(\"Palindromes in the file:\", palindromes_list)\n",
    "\n",
    "\n",
    "def letter_frequency():\n",
    "    with open('words.txt', 'r') as f:\n",
    "        words = f.read().replace('\\n', '')\n",
    "        frequency = {letter: words.count(letter) for letter in string.ascii_lowercase}\n",
    "        print(\"Letter frequency in the file:\", frequency)\n",
    "\n",
    "\n",
    "def main():\n",
    "    download_words()\n",
    "\n",
    "    total_words()\n",
    "    longest_word()\n",
    "\n",
    "    letter = input(\"Enter a letter to find words that start with it: \").lower()\n",
    "    words_start_with(letter)\n",
    "\n",
    "    substring = input(\"Enter a substring to find words that contain it: \").lower()\n",
    "    words_contain_substring(substring)\n",
    "\n",
    "    palindromes()\n",
    "    letter_frequency()\n",
    "\n",
    "if __name__ == \"__main__\":\n",
    "    main()\n"
   ]
  },
  {
   "cell_type": "code",
   "execution_count": null,
   "id": "55a40dd2-86e9-47e0-bce3-34a8b041f79d",
   "metadata": {},
   "outputs": [],
   "source": []
  }
 ],
 "metadata": {
  "kernelspec": {
   "display_name": "Python 3 (ipykernel)",
   "language": "python",
   "name": "python3"
  },
  "language_info": {
   "codemirror_mode": {
    "name": "ipython",
    "version": 3
   },
   "file_extension": ".py",
   "mimetype": "text/x-python",
   "name": "python",
   "nbconvert_exporter": "python",
   "pygments_lexer": "ipython3",
   "version": "3.12.1"
  }
 },
 "nbformat": 4,
 "nbformat_minor": 5
}
