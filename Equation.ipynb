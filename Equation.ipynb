{
 "cells": [
  {
   "cell_type": "markdown",
   "id": "032e4bf1-0f3b-47f9-bd8d-568ac456f694",
   "metadata": {},
   "source": [
    "# 3. Equation"
   ]
  },
  {
   "cell_type": "code",
   "execution_count": 6,
   "id": "027ba813-b0dd-4046-a368-996a7e32a9aa",
   "metadata": {},
   "outputs": [
    {
     "name": "stdout",
     "output_type": "stream",
     "text": [
      "x_1: 2.154\n",
      "x_2: 2.097\n",
      "x_3: 2.119\n",
      "x_4: 2.111\n",
      "x_5: 2.114\n",
      "x_6: 2.113\n",
      "x_7: 2.113\n"
     ]
    }
   ],
   "source": [
    "def equation():\n",
    "    x0 = 2  \n",
    "    epsilon = 0.001  \n",
    "    iteration = 0\n",
    "\n",
    "    while True:\n",
    "        x1 = (20 - 5 * x0) ** (1 / 3) \n",
    "        iteration += 1\n",
    "        print(f\"x_{iteration}: {x1:.3f}\") \n",
    "\n",
    "        if abs(x1 - x0) < epsilon: \n",
    "            break\n",
    "        \n",
    "        x0 = x1 \n",
    "\n",
    "equation()\n"
   ]
  },
  {
   "cell_type": "code",
   "execution_count": null,
   "id": "945fe198-4e8f-443e-9822-6f4d2d5b8ffd",
   "metadata": {},
   "outputs": [],
   "source": []
  }
 ],
 "metadata": {
  "kernelspec": {
   "display_name": "Python 3 (ipykernel)",
   "language": "python",
   "name": "python3"
  },
  "language_info": {
   "codemirror_mode": {
    "name": "ipython",
    "version": 3
   },
   "file_extension": ".py",
   "mimetype": "text/x-python",
   "name": "python",
   "nbconvert_exporter": "python",
   "pygments_lexer": "ipython3",
   "version": "3.12.1"
  }
 },
 "nbformat": 4,
 "nbformat_minor": 5
}
