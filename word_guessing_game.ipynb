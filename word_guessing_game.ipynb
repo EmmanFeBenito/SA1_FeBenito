{
 "cells": [
  {
   "cell_type": "markdown",
   "id": "0d315c5d-74db-4c43-b769-bdfa466ca2ef",
   "metadata": {},
   "source": [
    "# Word Guessing Game"
   ]
  },
  {
   "cell_type": "code",
   "execution_count": 6,
   "id": "fa03094a-9a9e-45fc-acaa-d54ff2985d50",
   "metadata": {},
   "outputs": [
    {
     "name": "stdout",
     "output_type": "stream",
     "text": [
      "Dataset saved to file.\n",
      "Welcome to the Word Guessing Game!\n",
      "\n",
      "Word to guess: _ _ _ _ _ _ _ _ _ _ \n",
      "Attempts left: 8\n"
     ]
    },
    {
     "name": "stdin",
     "output_type": "stream",
     "text": [
      "Enter a letter:  a\n"
     ]
    },
    {
     "name": "stdout",
     "output_type": "stream",
     "text": [
      "Incorrect!\n",
      "\n",
      "Word to guess: _ _ _ _ _ _ _ _ _ _ \n",
      "Attempts left: 7\n"
     ]
    },
    {
     "name": "stdin",
     "output_type": "stream",
     "text": [
      "Enter a letter:  e\n"
     ]
    },
    {
     "name": "stdout",
     "output_type": "stream",
     "text": [
      "Correct!\n",
      "\n",
      "Word to guess: _ _ _ _ e_ _ e_ e\n",
      "Attempts left: 7\n"
     ]
    },
    {
     "name": "stdin",
     "output_type": "stream",
     "text": [
      "Enter a letter:  s\n"
     ]
    },
    {
     "name": "stdout",
     "output_type": "stream",
     "text": [
      "Correct!\n",
      "\n",
      "Word to guess: _ _ s_ e_ _ e_ e\n",
      "Attempts left: 7\n"
     ]
    },
    {
     "name": "stdin",
     "output_type": "stream",
     "text": [
      "Enter a letter:  l\n"
     ]
    },
    {
     "name": "stdout",
     "output_type": "stream",
     "text": [
      "Correct!\n",
      "\n",
      "Word to guess: _ _ s_ el_ e_ e\n",
      "Attempts left: 7\n"
     ]
    },
    {
     "name": "stdin",
     "output_type": "stream",
     "text": [
      "Enter a letter:  t\n"
     ]
    },
    {
     "name": "stdout",
     "output_type": "stream",
     "text": [
      "Incorrect!\n",
      "\n",
      "Word to guess: _ _ s_ el_ e_ e\n",
      "Attempts left: 6\n"
     ]
    },
    {
     "name": "stdin",
     "output_type": "stream",
     "text": [
      "Enter a letter:  p\n"
     ]
    },
    {
     "name": "stdout",
     "output_type": "stream",
     "text": [
      "Incorrect!\n",
      "\n",
      "Word to guess: _ _ s_ el_ e_ e\n",
      "Attempts left: 5\n"
     ]
    },
    {
     "name": "stdin",
     "output_type": "stream",
     "text": [
      "Enter a letter:  n\n"
     ]
    },
    {
     "name": "stdout",
     "output_type": "stream",
     "text": [
      "Incorrect!\n",
      "\n",
      "Word to guess: _ _ s_ el_ e_ e\n",
      "Attempts left: 4\n"
     ]
    },
    {
     "name": "stdin",
     "output_type": "stream",
     "text": [
      "Enter a letter:  m\n"
     ]
    },
    {
     "name": "stdout",
     "output_type": "stream",
     "text": [
      "Incorrect!\n",
      "\n",
      "Word to guess: _ _ s_ el_ e_ e\n",
      "Attempts left: 3\n"
     ]
    },
    {
     "name": "stdin",
     "output_type": "stream",
     "text": [
      "Enter a letter:  a\n"
     ]
    },
    {
     "name": "stdout",
     "output_type": "stream",
     "text": [
      "You've already guessed that letter!\n",
      "\n",
      "Word to guess: _ _ s_ el_ e_ e\n",
      "Attempts left: 3\n"
     ]
    },
    {
     "name": "stdin",
     "output_type": "stream",
     "text": [
      "Enter a letter:  r\n"
     ]
    },
    {
     "name": "stdout",
     "output_type": "stream",
     "text": [
      "Incorrect!\n",
      "\n",
      "Word to guess: _ _ s_ el_ e_ e\n",
      "Attempts left: 2\n"
     ]
    },
    {
     "name": "stdin",
     "output_type": "stream",
     "text": [
      "Enter a letter:  c\n"
     ]
    },
    {
     "name": "stdout",
     "output_type": "stream",
     "text": [
      "Incorrect!\n",
      "\n",
      "Word to guess: _ _ s_ el_ e_ e\n",
      "Attempts left: 1\n"
     ]
    },
    {
     "name": "stdin",
     "output_type": "stream",
     "text": [
      "Enter a letter:  b\n"
     ]
    },
    {
     "name": "stdout",
     "output_type": "stream",
     "text": [
      "Correct!\n",
      "\n",
      "Word to guess: _ _ sbel_ e_ e\n",
      "Attempts left: 1\n"
     ]
    },
    {
     "name": "stdin",
     "output_type": "stream",
     "text": [
      "Enter a letter:  i\n"
     ]
    },
    {
     "name": "stdout",
     "output_type": "stream",
     "text": [
      "Correct!\n",
      "\n",
      "Word to guess: _ isbelie_ e\n",
      "Attempts left: 1\n"
     ]
    },
    {
     "name": "stdin",
     "output_type": "stream",
     "text": [
      "Enter a letter:  d\n"
     ]
    },
    {
     "name": "stdout",
     "output_type": "stream",
     "text": [
      "Correct!\n",
      "\n",
      "Word to guess: disbelie_ e\n",
      "Attempts left: 1\n"
     ]
    },
    {
     "name": "stdin",
     "output_type": "stream",
     "text": [
      "Enter a letter:  v\n"
     ]
    },
    {
     "name": "stdout",
     "output_type": "stream",
     "text": [
      "Correct!\n",
      "Congratulations! You've guessed the word: disbelieve\n"
     ]
    }
   ],
   "source": [
    "import random\n",
    "\n",
    "import requests\n",
    "\n",
    "url = 'https://raw.githubusercontent.com/AllenDowney/ThinkPython2/master/code/words.txt'\n",
    "\n",
    "response = requests.get(url)\n",
    "\n",
    "if response.status_code == 200:\n",
    "    with open('words.txt', 'wb') as f:\n",
    "        f.write(response.content)\n",
    "        print('Dataset saved to file.')\n",
    "else:\n",
    "    print('Failed to download dataset.')\n",
    "\n",
    "def display_word(word, guessed_letters):\n",
    "    displayed_word = ''\n",
    "    for letter in word:\n",
    "        if letter in guessed_letters:\n",
    "            displayed_word += letter\n",
    "        else:\n",
    "            displayed_word += '_ '\n",
    "    return displayed_word\n",
    "\n",
    "def get_guess():\n",
    "    while True:\n",
    "        guess = input(\"Enter a letter: \").lower()\n",
    "        if len(guess) == 1 and guess.isalpha():\n",
    "            return guess\n",
    "        else:\n",
    "            print(\"Invalid input. Please enter a single letter.\")\n",
    "\n",
    "def main():\n",
    "    print(\"Welcome to the Word Guessing Game!\")\n",
    "    word = select_word()\n",
    "    guessed_letters = []\n",
    "    attempts = 8\n",
    "\n",
    "    while attempts > 0:\n",
    "        print(\"\\nWord to guess:\", display_word(word, guessed_letters))\n",
    "        print(\"Attempts left:\", attempts)\n",
    "        guess = get_guess()\n",
    "\n",
    "        if guess in guessed_letters:\n",
    "            print(\"You've already guessed that letter!\")\n",
    "        elif guess in word:\n",
    "            print(\"Correct!\")\n",
    "            guessed_letters.append(guess)\n",
    "            if display_word(word, guessed_letters) == word:\n",
    "                print(\"Congratulations! You've guessed the word:\", word)\n",
    "                break\n",
    "        else:\n",
    "            print(\"Incorrect!\")\n",
    "            guessed_letters.append(guess)\n",
    "            attempts -= 1\n",
    "\n",
    "    if attempts == 0:\n",
    "        print(\"Sorry, you lose. The word was:\", word)\n",
    "\n",
    "if __name__ == \"__main__\":\n",
    "    main()\n"
   ]
  },
  {
   "cell_type": "code",
   "execution_count": null,
   "id": "316a86f0-6af9-48ce-9734-0732c89c78a6",
   "metadata": {},
   "outputs": [],
   "source": []
  }
 ],
 "metadata": {
  "kernelspec": {
   "display_name": "Python 3 (ipykernel)",
   "language": "python",
   "name": "python3"
  },
  "language_info": {
   "codemirror_mode": {
    "name": "ipython",
    "version": 3
   },
   "file_extension": ".py",
   "mimetype": "text/x-python",
   "name": "python",
   "nbconvert_exporter": "python",
   "pygments_lexer": "ipython3",
   "version": "3.12.1"
  }
 },
 "nbformat": 4,
 "nbformat_minor": 5
}
