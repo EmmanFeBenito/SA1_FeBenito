{
 "cells": [
  {
   "cell_type": "markdown",
   "id": "b914824b-0170-4a83-89d4-9fbd0c49c49f",
   "metadata": {},
   "source": [
    "# Iterations"
   ]
  },
  {
   "cell_type": "code",
   "execution_count": 9,
   "id": "abe43903-4728-4ec5-89b0-6d845d7b061b",
   "metadata": {},
   "outputs": [
    {
     "name": "stdout",
     "output_type": "stream",
     "text": [
      "Iterative Fibonacci Sequence: [0, 1, 1, 2, 3, 5, 8, 13, 21, 34, 55, 89, 144, 233, 377, 610, 987, 1597, 2584, 4181, 6765, 10946, 17711, 28657, 46368, 75025, 121393, 196418, 317811, 514229]\n",
      "Time taken for iterative approach: 0.0003203000087523833 seconds\n"
     ]
    }
   ],
   "source": [
    "import time\n",
    "\n",
    "def fibonacci_iterative(n):\n",
    "    if n <= 0:\n",
    "        return []\n",
    "    elif n == 1:\n",
    "        return [0]\n",
    "    elif n == 2:\n",
    "        return [0, 1]\n",
    "    else:\n",
    "        fib_sequence = [0, 1]\n",
    "        for i in range(2, n):\n",
    "            fib_sequence.append(fib_sequence[-1] + fib_sequence[-2])\n",
    "        return fib_sequence\n",
    "\n",
    "start_time = time.perf_counter()\n",
    "fib_iterative_result = fibonacci_iterative(30)\n",
    "end_time = time.perf_counter()\n",
    "iterative_time = end_time - start_time\n",
    "\n",
    "print(\"Iterative Fibonacci Sequence:\", fib_iterative_result)\n",
    "print(\"Time taken for iterative approach:\", iterative_time, \"seconds\")\n"
   ]
  },
  {
   "cell_type": "markdown",
   "id": "1106824a-ee46-4c1d-9a13-1a7e7508ad5a",
   "metadata": {},
   "source": [
    "# Recursion"
   ]
  },
  {
   "cell_type": "code",
   "execution_count": 10,
   "id": "5807d8ea-2af8-43a7-bcc6-5adf20052782",
   "metadata": {},
   "outputs": [
    {
     "name": "stdout",
     "output_type": "stream",
     "text": [
      "Recursive Fibonacci Sequence: [0, 1, 1, 2, 3, 5, 8, 13, 21, 34, 55, 89, 144, 233, 377, 610, 987, 1597, 2584, 4181, 6765, 10946, 17711, 28657, 46368, 75025, 121393, 196418, 317811, 514229]\n",
      "Time taken for recursive approach: 0.0002978999982587993 seconds\n"
     ]
    }
   ],
   "source": [
    "import time\n",
    "\n",
    "def fibonacci_recursive(n):\n",
    "    if n <= 0:\n",
    "        return []\n",
    "    elif n == 1:\n",
    "        return [0]\n",
    "    elif n == 2:\n",
    "        return [0, 1]\n",
    "    else:\n",
    "        fib_sequence = fibonacci_recursive(n - 1)\n",
    "        fib_sequence.append(fib_sequence[-1] + fib_sequence[-2])\n",
    "        return fib_sequence\n",
    "\n",
    "start_time = time.perf_counter()\n",
    "fib_recursive_result = fibonacci_recursive(30) \n",
    "end_time = time.perf_counter()\n",
    "recursive_time = end_time - start_time\n",
    "\n",
    "print(\"Recursive Fibonacci Sequence:\", fib_recursive_result)\n",
    "print(\"Time taken for recursive approach:\", recursive_time, \"seconds\")\n"
   ]
  },
  {
   "cell_type": "code",
   "execution_count": null,
   "id": "7a348585-cb6e-4761-a127-8c6cc314f40e",
   "metadata": {},
   "outputs": [],
   "source": []
  }
 ],
 "metadata": {
  "kernelspec": {
   "display_name": "Python 3 (ipykernel)",
   "language": "python",
   "name": "python3"
  },
  "language_info": {
   "codemirror_mode": {
    "name": "ipython",
    "version": 3
   },
   "file_extension": ".py",
   "mimetype": "text/x-python",
   "name": "python",
   "nbconvert_exporter": "python",
   "pygments_lexer": "ipython3",
   "version": "3.12.1"
  }
 },
 "nbformat": 4,
 "nbformat_minor": 5
}
